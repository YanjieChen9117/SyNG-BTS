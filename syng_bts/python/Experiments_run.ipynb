{
 "cells": [
  {
   "cell_type": "code",
   "execution_count": 2,
   "metadata": {},
   "outputs": [
    {
     "name": "stdout",
     "output_type": "stream",
     "text": [
      "Looking in indexes: https://test.pypi.org/simple/, https://pypi.org/simple/\n",
      "Requirement already satisfied: syng-bts==2.4 in /Users/yanjiechen/Documents/Github/SyNG-BTS/.conda/lib/python3.11/site-packages (2.4)\n",
      "Requirement already satisfied: sphinx==7.1.2 in /Users/yanjiechen/Documents/Github/SyNG-BTS/.conda/lib/python3.11/site-packages (from syng-bts==2.4) (7.1.2)\n",
      "Requirement already satisfied: sphinx-rtd-theme==1.3.0rc1 in /Users/yanjiechen/Documents/Github/SyNG-BTS/.conda/lib/python3.11/site-packages (from syng-bts==2.4) (1.3.0rc1)\n",
      "Requirement already satisfied: torch>=1.3.1 in /Users/yanjiechen/Documents/Github/SyNG-BTS/.conda/lib/python3.11/site-packages (from syng-bts==2.4) (2.8.0)\n",
      "Requirement already satisfied: pandas>=1.0.5 in /Users/yanjiechen/Documents/Github/SyNG-BTS/.conda/lib/python3.11/site-packages (from syng-bts==2.4) (2.3.3)\n",
      "Requirement already satisfied: seaborn>=0.9.0 in /Users/yanjiechen/Documents/Github/SyNG-BTS/.conda/lib/python3.11/site-packages (from syng-bts==2.4) (0.13.2)\n",
      "Requirement already satisfied: numpy>=1.19.1 in /Users/yanjiechen/Documents/Github/SyNG-BTS/.conda/lib/python3.11/site-packages (from syng-bts==2.4) (2.3.3)\n",
      "Requirement already satisfied: pathlib2>=2.3.2 in /Users/yanjiechen/Documents/Github/SyNG-BTS/.conda/lib/python3.11/site-packages (from syng-bts==2.4) (2.3.7.post1)\n",
      "Requirement already satisfied: scipy>=1.4.1 in /Users/yanjiechen/Documents/Github/SyNG-BTS/.conda/lib/python3.11/site-packages (from syng-bts==2.4) (1.16.2)\n",
      "Requirement already satisfied: matplotlib>=2.2.3 in /Users/yanjiechen/Documents/Github/SyNG-BTS/.conda/lib/python3.11/site-packages (from syng-bts==2.4) (3.10.6)\n",
      "Requirement already satisfied: tqdm>=4.26.0 in /Users/yanjiechen/Documents/Github/SyNG-BTS/.conda/lib/python3.11/site-packages (from syng-bts==2.4) (4.67.1)\n",
      "Requirement already satisfied: tensorboardX>=2.5.0 in /Users/yanjiechen/Documents/Github/SyNG-BTS/.conda/lib/python3.11/site-packages (from syng-bts==2.4) (2.6.4)\n",
      "Requirement already satisfied: umap-learn>=0.5.6 in /Users/yanjiechen/Documents/Github/SyNG-BTS/.conda/lib/python3.11/site-packages (from syng-bts==2.4) (0.5.9.post2)\n",
      "Requirement already satisfied: nbsphinx in /Users/yanjiechen/Documents/Github/SyNG-BTS/.conda/lib/python3.11/site-packages (from syng-bts==2.4) (0.9.7)\n",
      "Requirement already satisfied: sphinxcontrib-applehelp in /Users/yanjiechen/Documents/Github/SyNG-BTS/.conda/lib/python3.11/site-packages (from sphinx==7.1.2->syng-bts==2.4) (2.0.0)\n",
      "Requirement already satisfied: sphinxcontrib-devhelp in /Users/yanjiechen/Documents/Github/SyNG-BTS/.conda/lib/python3.11/site-packages (from sphinx==7.1.2->syng-bts==2.4) (2.0.0)\n",
      "Requirement already satisfied: sphinxcontrib-jsmath in /Users/yanjiechen/Documents/Github/SyNG-BTS/.conda/lib/python3.11/site-packages (from sphinx==7.1.2->syng-bts==2.4) (1.0.1)\n",
      "Requirement already satisfied: sphinxcontrib-htmlhelp>=2.0.0 in /Users/yanjiechen/Documents/Github/SyNG-BTS/.conda/lib/python3.11/site-packages (from sphinx==7.1.2->syng-bts==2.4) (2.1.0)\n",
      "Requirement already satisfied: sphinxcontrib-serializinghtml>=1.1.5 in /Users/yanjiechen/Documents/Github/SyNG-BTS/.conda/lib/python3.11/site-packages (from sphinx==7.1.2->syng-bts==2.4) (2.0.0)\n",
      "Requirement already satisfied: sphinxcontrib-qthelp in /Users/yanjiechen/Documents/Github/SyNG-BTS/.conda/lib/python3.11/site-packages (from sphinx==7.1.2->syng-bts==2.4) (2.0.0)\n",
      "Requirement already satisfied: Jinja2>=3.0 in /Users/yanjiechen/Documents/Github/SyNG-BTS/.conda/lib/python3.11/site-packages (from sphinx==7.1.2->syng-bts==2.4) (3.1.6)\n",
      "Requirement already satisfied: Pygments>=2.13 in /Users/yanjiechen/Documents/Github/SyNG-BTS/.conda/lib/python3.11/site-packages (from sphinx==7.1.2->syng-bts==2.4) (2.19.2)\n",
      "Requirement already satisfied: docutils<0.21,>=0.18.1 in /Users/yanjiechen/Documents/Github/SyNG-BTS/.conda/lib/python3.11/site-packages (from sphinx==7.1.2->syng-bts==2.4) (0.18.1)\n",
      "Requirement already satisfied: snowballstemmer>=2.0 in /Users/yanjiechen/Documents/Github/SyNG-BTS/.conda/lib/python3.11/site-packages (from sphinx==7.1.2->syng-bts==2.4) (3.0.1)\n",
      "Requirement already satisfied: babel>=2.9 in /Users/yanjiechen/Documents/Github/SyNG-BTS/.conda/lib/python3.11/site-packages (from sphinx==7.1.2->syng-bts==2.4) (2.17.0)\n",
      "Requirement already satisfied: alabaster<0.8,>=0.7 in /Users/yanjiechen/Documents/Github/SyNG-BTS/.conda/lib/python3.11/site-packages (from sphinx==7.1.2->syng-bts==2.4) (0.7.16)\n",
      "Requirement already satisfied: imagesize>=1.3 in /Users/yanjiechen/Documents/Github/SyNG-BTS/.conda/lib/python3.11/site-packages (from sphinx==7.1.2->syng-bts==2.4) (1.4.1)\n",
      "Requirement already satisfied: requests>=2.25.0 in /Users/yanjiechen/Documents/Github/SyNG-BTS/.conda/lib/python3.11/site-packages (from sphinx==7.1.2->syng-bts==2.4) (2.32.5)\n",
      "Requirement already satisfied: packaging>=21.0 in /Users/yanjiechen/Documents/Github/SyNG-BTS/.conda/lib/python3.11/site-packages (from sphinx==7.1.2->syng-bts==2.4) (25.0)\n",
      "Requirement already satisfied: sphinxcontrib-jquery<5,>=4 in /Users/yanjiechen/Documents/Github/SyNG-BTS/.conda/lib/python3.11/site-packages (from sphinx-rtd-theme==1.3.0rc1->syng-bts==2.4) (4.1)\n",
      "Requirement already satisfied: MarkupSafe>=2.0 in /Users/yanjiechen/Documents/Github/SyNG-BTS/.conda/lib/python3.11/site-packages (from Jinja2>=3.0->sphinx==7.1.2->syng-bts==2.4) (3.0.3)\n",
      "Requirement already satisfied: contourpy>=1.0.1 in /Users/yanjiechen/Documents/Github/SyNG-BTS/.conda/lib/python3.11/site-packages (from matplotlib>=2.2.3->syng-bts==2.4) (1.3.3)\n",
      "Requirement already satisfied: cycler>=0.10 in /Users/yanjiechen/Documents/Github/SyNG-BTS/.conda/lib/python3.11/site-packages (from matplotlib>=2.2.3->syng-bts==2.4) (0.12.1)\n",
      "Requirement already satisfied: fonttools>=4.22.0 in /Users/yanjiechen/Documents/Github/SyNG-BTS/.conda/lib/python3.11/site-packages (from matplotlib>=2.2.3->syng-bts==2.4) (4.60.1)\n",
      "Requirement already satisfied: kiwisolver>=1.3.1 in /Users/yanjiechen/Documents/Github/SyNG-BTS/.conda/lib/python3.11/site-packages (from matplotlib>=2.2.3->syng-bts==2.4) (1.4.9)\n",
      "Requirement already satisfied: pillow>=8 in /Users/yanjiechen/Documents/Github/SyNG-BTS/.conda/lib/python3.11/site-packages (from matplotlib>=2.2.3->syng-bts==2.4) (11.3.0)\n",
      "Requirement already satisfied: pyparsing>=2.3.1 in /Users/yanjiechen/Documents/Github/SyNG-BTS/.conda/lib/python3.11/site-packages (from matplotlib>=2.2.3->syng-bts==2.4) (3.2.5)\n",
      "Requirement already satisfied: python-dateutil>=2.7 in /Users/yanjiechen/Documents/Github/SyNG-BTS/.conda/lib/python3.11/site-packages (from matplotlib>=2.2.3->syng-bts==2.4) (2.9.0.post0)\n",
      "Requirement already satisfied: pytz>=2020.1 in /Users/yanjiechen/Documents/Github/SyNG-BTS/.conda/lib/python3.11/site-packages (from pandas>=1.0.5->syng-bts==2.4) (2025.2)\n",
      "Requirement already satisfied: tzdata>=2022.7 in /Users/yanjiechen/Documents/Github/SyNG-BTS/.conda/lib/python3.11/site-packages (from pandas>=1.0.5->syng-bts==2.4) (2025.2.post0)\n",
      "Requirement already satisfied: six in /Users/yanjiechen/Documents/Github/SyNG-BTS/.conda/lib/python3.11/site-packages (from pathlib2>=2.3.2->syng-bts==2.4) (1.17.0)\n",
      "Requirement already satisfied: charset_normalizer<4,>=2 in /Users/yanjiechen/Documents/Github/SyNG-BTS/.conda/lib/python3.11/site-packages (from requests>=2.25.0->sphinx==7.1.2->syng-bts==2.4) (3.4.3)\n",
      "Requirement already satisfied: idna<4,>=2.5 in /Users/yanjiechen/Documents/Github/SyNG-BTS/.conda/lib/python3.11/site-packages (from requests>=2.25.0->sphinx==7.1.2->syng-bts==2.4) (3.10)\n",
      "Requirement already satisfied: urllib3<3,>=1.21.1 in /Users/yanjiechen/Documents/Github/SyNG-BTS/.conda/lib/python3.11/site-packages (from requests>=2.25.0->sphinx==7.1.2->syng-bts==2.4) (2.5.0)\n",
      "Requirement already satisfied: certifi>=2017.4.17 in /Users/yanjiechen/Documents/Github/SyNG-BTS/.conda/lib/python3.11/site-packages (from requests>=2.25.0->sphinx==7.1.2->syng-bts==2.4) (2025.8.3)\n",
      "Requirement already satisfied: protobuf>=3.20 in /Users/yanjiechen/Documents/Github/SyNG-BTS/.conda/lib/python3.11/site-packages (from tensorboardX>=2.5.0->syng-bts==2.4) (6.32.1)\n",
      "Requirement already satisfied: filelock in /Users/yanjiechen/Documents/Github/SyNG-BTS/.conda/lib/python3.11/site-packages (from torch>=1.3.1->syng-bts==2.4) (3.19.1)\n",
      "Requirement already satisfied: typing-extensions>=4.10.0 in /Users/yanjiechen/Documents/Github/SyNG-BTS/.conda/lib/python3.11/site-packages (from torch>=1.3.1->syng-bts==2.4) (4.15.0)\n",
      "Requirement already satisfied: sympy>=1.13.3 in /Users/yanjiechen/Documents/Github/SyNG-BTS/.conda/lib/python3.11/site-packages (from torch>=1.3.1->syng-bts==2.4) (1.14.0)\n",
      "Requirement already satisfied: networkx in /Users/yanjiechen/Documents/Github/SyNG-BTS/.conda/lib/python3.11/site-packages (from torch>=1.3.1->syng-bts==2.4) (3.5)\n",
      "Requirement already satisfied: fsspec in /Users/yanjiechen/Documents/Github/SyNG-BTS/.conda/lib/python3.11/site-packages (from torch>=1.3.1->syng-bts==2.4) (2025.9.0)\n",
      "Requirement already satisfied: mpmath<1.4,>=1.1.0 in /Users/yanjiechen/Documents/Github/SyNG-BTS/.conda/lib/python3.11/site-packages (from sympy>=1.13.3->torch>=1.3.1->syng-bts==2.4) (1.3.0)\n",
      "Requirement already satisfied: scikit-learn>=1.6 in /Users/yanjiechen/Documents/Github/SyNG-BTS/.conda/lib/python3.11/site-packages (from umap-learn>=0.5.6->syng-bts==2.4) (1.7.2)\n",
      "Requirement already satisfied: numba>=0.51.2 in /Users/yanjiechen/Documents/Github/SyNG-BTS/.conda/lib/python3.11/site-packages (from umap-learn>=0.5.6->syng-bts==2.4) (0.62.1)\n",
      "Requirement already satisfied: pynndescent>=0.5 in /Users/yanjiechen/Documents/Github/SyNG-BTS/.conda/lib/python3.11/site-packages (from umap-learn>=0.5.6->syng-bts==2.4) (0.5.13)\n",
      "Requirement already satisfied: llvmlite<0.46,>=0.45.0dev0 in /Users/yanjiechen/Documents/Github/SyNG-BTS/.conda/lib/python3.11/site-packages (from numba>=0.51.2->umap-learn>=0.5.6->syng-bts==2.4) (0.45.0)\n",
      "Requirement already satisfied: joblib>=0.11 in /Users/yanjiechen/Documents/Github/SyNG-BTS/.conda/lib/python3.11/site-packages (from pynndescent>=0.5->umap-learn>=0.5.6->syng-bts==2.4) (1.5.2)\n",
      "Requirement already satisfied: threadpoolctl>=3.1.0 in /Users/yanjiechen/Documents/Github/SyNG-BTS/.conda/lib/python3.11/site-packages (from scikit-learn>=1.6->umap-learn>=0.5.6->syng-bts==2.4) (3.6.0)\n",
      "Requirement already satisfied: nbconvert!=5.4,>=5.3 in /Users/yanjiechen/Documents/Github/SyNG-BTS/.conda/lib/python3.11/site-packages (from nbsphinx->syng-bts==2.4) (7.16.6)\n",
      "Requirement already satisfied: traitlets>=5 in /Users/yanjiechen/Documents/Github/SyNG-BTS/.conda/lib/python3.11/site-packages (from nbsphinx->syng-bts==2.4) (5.14.3)\n",
      "Requirement already satisfied: nbformat in /Users/yanjiechen/Documents/Github/SyNG-BTS/.conda/lib/python3.11/site-packages (from nbsphinx->syng-bts==2.4) (5.10.4)\n",
      "Requirement already satisfied: beautifulsoup4 in /Users/yanjiechen/Documents/Github/SyNG-BTS/.conda/lib/python3.11/site-packages (from nbconvert!=5.4,>=5.3->nbsphinx->syng-bts==2.4) (4.14.2)\n",
      "Requirement already satisfied: bleach!=5.0.0 in /Users/yanjiechen/Documents/Github/SyNG-BTS/.conda/lib/python3.11/site-packages (from bleach[css]!=5.0.0->nbconvert!=5.4,>=5.3->nbsphinx->syng-bts==2.4) (6.2.0)\n",
      "Requirement already satisfied: defusedxml in /Users/yanjiechen/Documents/Github/SyNG-BTS/.conda/lib/python3.11/site-packages (from nbconvert!=5.4,>=5.3->nbsphinx->syng-bts==2.4) (0.7.1)\n",
      "Requirement already satisfied: jupyter-core>=4.7 in /Users/yanjiechen/Documents/Github/SyNG-BTS/.conda/lib/python3.11/site-packages (from nbconvert!=5.4,>=5.3->nbsphinx->syng-bts==2.4) (5.8.1)\n",
      "Requirement already satisfied: jupyterlab-pygments in /Users/yanjiechen/Documents/Github/SyNG-BTS/.conda/lib/python3.11/site-packages (from nbconvert!=5.4,>=5.3->nbsphinx->syng-bts==2.4) (0.3.0)\n",
      "Requirement already satisfied: mistune<4,>=2.0.3 in /Users/yanjiechen/Documents/Github/SyNG-BTS/.conda/lib/python3.11/site-packages (from nbconvert!=5.4,>=5.3->nbsphinx->syng-bts==2.4) (3.1.4)\n",
      "Requirement already satisfied: nbclient>=0.5.0 in /Users/yanjiechen/Documents/Github/SyNG-BTS/.conda/lib/python3.11/site-packages (from nbconvert!=5.4,>=5.3->nbsphinx->syng-bts==2.4) (0.10.2)\n",
      "Requirement already satisfied: pandocfilters>=1.4.1 in /Users/yanjiechen/Documents/Github/SyNG-BTS/.conda/lib/python3.11/site-packages (from nbconvert!=5.4,>=5.3->nbsphinx->syng-bts==2.4) (1.5.1)\n",
      "Requirement already satisfied: webencodings in /Users/yanjiechen/Documents/Github/SyNG-BTS/.conda/lib/python3.11/site-packages (from bleach!=5.0.0->bleach[css]!=5.0.0->nbconvert!=5.4,>=5.3->nbsphinx->syng-bts==2.4) (0.5.1)\n",
      "Requirement already satisfied: tinycss2<1.5,>=1.1.0 in /Users/yanjiechen/Documents/Github/SyNG-BTS/.conda/lib/python3.11/site-packages (from bleach[css]!=5.0.0->nbconvert!=5.4,>=5.3->nbsphinx->syng-bts==2.4) (1.4.0)\n",
      "Requirement already satisfied: platformdirs>=2.5 in /Users/yanjiechen/Documents/Github/SyNG-BTS/.conda/lib/python3.11/site-packages (from jupyter-core>=4.7->nbconvert!=5.4,>=5.3->nbsphinx->syng-bts==2.4) (4.4.0)\n",
      "Requirement already satisfied: jupyter-client>=6.1.12 in /Users/yanjiechen/Documents/Github/SyNG-BTS/.conda/lib/python3.11/site-packages (from nbclient>=0.5.0->nbconvert!=5.4,>=5.3->nbsphinx->syng-bts==2.4) (8.6.3)\n",
      "Requirement already satisfied: pyzmq>=23.0 in /Users/yanjiechen/Documents/Github/SyNG-BTS/.conda/lib/python3.11/site-packages (from jupyter-client>=6.1.12->nbclient>=0.5.0->nbconvert!=5.4,>=5.3->nbsphinx->syng-bts==2.4) (27.1.0)\n",
      "Requirement already satisfied: tornado>=6.2 in /Users/yanjiechen/Documents/Github/SyNG-BTS/.conda/lib/python3.11/site-packages (from jupyter-client>=6.1.12->nbclient>=0.5.0->nbconvert!=5.4,>=5.3->nbsphinx->syng-bts==2.4) (6.5.2)\n",
      "Requirement already satisfied: fastjsonschema>=2.15 in /Users/yanjiechen/Documents/Github/SyNG-BTS/.conda/lib/python3.11/site-packages (from nbformat->nbsphinx->syng-bts==2.4) (2.21.2)\n",
      "Requirement already satisfied: jsonschema>=2.6 in /Users/yanjiechen/Documents/Github/SyNG-BTS/.conda/lib/python3.11/site-packages (from nbformat->nbsphinx->syng-bts==2.4) (4.25.1)\n",
      "Requirement already satisfied: attrs>=22.2.0 in /Users/yanjiechen/Documents/Github/SyNG-BTS/.conda/lib/python3.11/site-packages (from jsonschema>=2.6->nbformat->nbsphinx->syng-bts==2.4) (25.3.0)\n",
      "Requirement already satisfied: jsonschema-specifications>=2023.03.6 in /Users/yanjiechen/Documents/Github/SyNG-BTS/.conda/lib/python3.11/site-packages (from jsonschema>=2.6->nbformat->nbsphinx->syng-bts==2.4) (2025.9.1)\n",
      "Requirement already satisfied: referencing>=0.28.4 in /Users/yanjiechen/Documents/Github/SyNG-BTS/.conda/lib/python3.11/site-packages (from jsonschema>=2.6->nbformat->nbsphinx->syng-bts==2.4) (0.36.2)\n",
      "Requirement already satisfied: rpds-py>=0.7.1 in /Users/yanjiechen/Documents/Github/SyNG-BTS/.conda/lib/python3.11/site-packages (from jsonschema>=2.6->nbformat->nbsphinx->syng-bts==2.4) (0.27.1)\n",
      "Requirement already satisfied: soupsieve>1.2 in /Users/yanjiechen/Documents/Github/SyNG-BTS/.conda/lib/python3.11/site-packages (from beautifulsoup4->nbconvert!=5.4,>=5.3->nbsphinx->syng-bts==2.4) (2.8)\n",
      "Note: you may need to restart the kernel to use updated packages.\n"
     ]
    }
   ],
   "source": [
    "# restart kernel before reinstall updated package\n",
    "%pip install --index-url https://test.pypi.org/simple/ --extra-index-url https://pypi.org/simple/ syng-bts==2.4"
   ]
  },
  {
   "cell_type": "code",
   "execution_count": 3,
   "metadata": {},
   "outputs": [],
   "source": [
    "%load_ext autoreload\n",
    "%autoreload 2\n",
    "\n",
    "from syng_bts.python.Experiments_new import *\n",
    "# from Experiments_new import *"
   ]
  },
  {
   "cell_type": "code",
   "execution_count": null,
   "metadata": {},
   "outputs": [],
   "source": [
    "#%% run pilot experiments\n",
    "# This function trains VAE or CVAE, or GAN, WGAN, WGANGP, MAF, GLOW, RealNVP \n",
    "#      with several pilot size given data, model, batch_size, learning_rate, epoch, off_aug and pre_model\n",
    "#      for each pilot size, there will be 5 draws, \n",
    "#      for each draw, the data is augmented to 5 times the original sample size.\n",
    "# dataname :         pure data name without .csv. Eg: SKCMPositive_3\n",
    "# pilot_size:        a set including potential pilot sizes\n",
    "# model:             name of the model to be trained\n",
    "# batch_frac:        batch fraction\n",
    "# learning_rate:     learning rate \n",
    "# epoch:             choose from None (early_stop), or any interger, if choose None, early_stop_num will take effect\n",
    "# early_stop_num:    if loss does not improve for early_stop_num epochs, the training will stop. Default value is 30. Only take effect when epoch == \"early_stop\"\n",
    "# off_aug:           choose from AE_head, Gaussian_head, None. if choose AE_head, AE_head_num will take effect. If choose Gaussian_head, Gaussian_head_num will take effect. If choose None, no offline augmentation\n",
    "# AE_head_num:       how many folds of AEhead augmentation needed. Default value is 2, Only take effect when off_aug == \"AE_head\"\n",
    "# Gaussian_head_num: how many folds of Gaussianhead augmentation needed. Default value is 9, Only take effect when off_aug == \"Gaussian_head\"\n",
    "# pre_model:         transfer learning input model. If pre_model == None, no transfer learning\n",
    "\n",
    "PilotExperiment(dataname = \"SKCMPositive_4\", pilot_size = [100],\n",
    "                model = \"VAE1-10\", batch_frac = 0.1, \n",
    "                learning_rate = 0.0005, pre_model = None,\n",
    "                epoch = None,  off_aug = None, early_stop_num = 30,\n",
    "                AE_head_num = 2, Gaussian_head_num = 9)"
   ]
  },
  {
   "cell_type": "code",
   "execution_count": 7,
   "metadata": {
    "scrolled": true
   },
   "outputs": [
    {
     "ename": "FileNotFoundError",
     "evalue": "[Errno 2] No such file or directory: '../Case/KICH/raw/batch_2/KICHSubtype_lymph_nodes_examined_train.csv'",
     "output_type": "error",
     "traceback": [
      "\u001b[31m---------------------------------------------------------------------------\u001b[39m",
      "\u001b[31mFileNotFoundError\u001b[39m                         Traceback (most recent call last)",
      "\u001b[36mCell\u001b[39m\u001b[36m \u001b[39m\u001b[32mIn[7]\u001b[39m\u001b[32m, line 19\u001b[39m\n\u001b[32m      1\u001b[39m \u001b[38;5;66;03m#%% running application on case study BRCASubtype\u001b[39;00m\n\u001b[32m      2\u001b[39m \u001b[38;5;66;03m# This function trains VAE or CVAE, or GAN, WGAN, WGANGP, MAF, GLOW, RealNVP \u001b[39;00m\n\u001b[32m      3\u001b[39m \u001b[38;5;66;03m#      given data, model, batch_size, learning_rate, epoch, off_aug and pre_model\u001b[39;00m\n\u001b[32m   (...)\u001b[39m\u001b[32m     16\u001b[39m \u001b[38;5;66;03m# pre_model:         transfer learning input model. If pre_model == None, no transfer learning\u001b[39;00m\n\u001b[32m     17\u001b[39m \u001b[38;5;66;03m# save_model:        if the trained model should be saved, specify the path and name of the saved model\u001b[39;00m\n\u001b[32m---> \u001b[39m\u001b[32m19\u001b[39m \u001b[43mApplyExperiment\u001b[49m\u001b[43m(\u001b[49m\u001b[43mpath\u001b[49m\u001b[43m \u001b[49m\u001b[43m=\u001b[49m\u001b[43m \u001b[49m\u001b[33;43m\"\u001b[39;49m\u001b[33;43m../Case/KICH/raw/batch_2/\u001b[39;49m\u001b[33;43m\"\u001b[39;49m\u001b[43m,\u001b[49m\n\u001b[32m     20\u001b[39m \u001b[43m                \u001b[49m\u001b[43mdataname\u001b[49m\u001b[43m \u001b[49m\u001b[43m=\u001b[49m\u001b[43m \u001b[49m\u001b[33;43m\"\u001b[39;49m\u001b[33;43mKICHSubtype_lymph_nodes_examined_train\u001b[39;49m\u001b[33;43m\"\u001b[39;49m\u001b[43m,\u001b[49m\u001b[43m \u001b[49m\n\u001b[32m     21\u001b[39m \u001b[43m                \u001b[49m\u001b[43mapply_log\u001b[49m\u001b[43m \u001b[49m\u001b[43m=\u001b[49m\u001b[43m \u001b[49m\u001b[38;5;28;43;01mTrue\u001b[39;49;00m\u001b[43m,\u001b[49m\u001b[43m \u001b[49m\n\u001b[32m     22\u001b[39m \u001b[43m                \u001b[49m\u001b[43mnew_size\u001b[49m\u001b[43m \u001b[49m\u001b[43m=\u001b[49m\u001b[43m \u001b[49m\u001b[43m[\u001b[49m\u001b[32;43m1000\u001b[39;49m\u001b[43m]\u001b[49m\u001b[43m,\u001b[49m\n\u001b[32m     23\u001b[39m \u001b[43m                \u001b[49m\u001b[43mmodel\u001b[49m\u001b[43m \u001b[49m\u001b[43m=\u001b[49m\u001b[43m \u001b[49m\u001b[33;43m\"\u001b[39;49m\u001b[33;43mCVAE1-10\u001b[39;49m\u001b[33;43m\"\u001b[39;49m\u001b[43m \u001b[49m\u001b[43m,\u001b[49m\n\u001b[32m     24\u001b[39m \u001b[43m                \u001b[49m\u001b[43mbatch_frac\u001b[49m\u001b[43m \u001b[49m\u001b[43m=\u001b[49m\u001b[43m \u001b[49m\u001b[32;43m0.1\u001b[39;49m\u001b[43m,\u001b[49m\u001b[43m \u001b[49m\n\u001b[32m     25\u001b[39m \u001b[43m                \u001b[49m\u001b[43mlearning_rate\u001b[49m\u001b[43m \u001b[49m\u001b[43m=\u001b[49m\u001b[43m \u001b[49m\u001b[32;43m0.0005\u001b[39;49m\u001b[43m,\u001b[49m\n\u001b[32m     26\u001b[39m \u001b[43m                \u001b[49m\u001b[43mepoch\u001b[49m\u001b[43m \u001b[49m\u001b[43m=\u001b[49m\u001b[43m \u001b[49m\u001b[32;43m3000\u001b[39;49m\u001b[43m,\u001b[49m\n\u001b[32m     27\u001b[39m \u001b[43m                \u001b[49m\u001b[43mearly_stop_num\u001b[49m\u001b[43m \u001b[49m\u001b[43m=\u001b[49m\u001b[43m \u001b[49m\u001b[32;43m20\u001b[39;49m\u001b[43m,\u001b[49m\u001b[43m \u001b[49m\n\u001b[32m     28\u001b[39m \u001b[43m                \u001b[49m\u001b[43moff_aug\u001b[49m\u001b[43m \u001b[49m\u001b[43m=\u001b[49m\u001b[43m \u001b[49m\u001b[33;43m\"\u001b[39;49m\u001b[33;43mAE_head\u001b[39;49m\u001b[33;43m\"\u001b[39;49m\u001b[43m,\u001b[49m\n\u001b[32m     29\u001b[39m \u001b[43m                \u001b[49m\u001b[43mAE_head_num\u001b[49m\u001b[43m \u001b[49m\u001b[43m=\u001b[49m\u001b[43m \u001b[49m\u001b[32;43m2\u001b[39;49m\u001b[43m,\u001b[49m\n\u001b[32m     30\u001b[39m \u001b[43m                \u001b[49m\u001b[43mGaussian_head_num\u001b[49m\u001b[43m \u001b[49m\u001b[43m=\u001b[49m\u001b[43m \u001b[49m\u001b[32;43m9\u001b[39;49m\u001b[43m,\u001b[49m\u001b[43m \u001b[49m\n\u001b[32m     31\u001b[39m \u001b[43m                \u001b[49m\u001b[43mpre_model\u001b[49m\u001b[43m \u001b[49m\u001b[43m=\u001b[49m\u001b[43m \u001b[49m\u001b[38;5;28;43;01mNone\u001b[39;49;00m\u001b[43m,\u001b[49m\n\u001b[32m     32\u001b[39m \u001b[43m                \u001b[49m\u001b[43msave_model\u001b[49m\u001b[43m \u001b[49m\u001b[43m=\u001b[49m\u001b[43m \u001b[49m\u001b[38;5;28;43;01mNone\u001b[39;49;00m\u001b[43m)\u001b[49m\n",
      "\u001b[36mFile \u001b[39m\u001b[32m~/Documents/Github/SyNG-BTS/.conda/lib/python3.11/site-packages/syng_bts/python/Experiments_new.py:547\u001b[39m, in \u001b[36mApplyExperiment\u001b[39m\u001b[34m(path, dataname, apply_log, new_size, model, batch_frac, learning_rate, epoch, early_stop_num, off_aug, AE_head_num, Gaussian_head_num, pre_model, save_model)\u001b[39m\n\u001b[32m    545\u001b[39m         df = pd.read_csv(data_file)\n\u001b[32m    546\u001b[39m \u001b[38;5;28;01melse\u001b[39;00m:\n\u001b[32m--> \u001b[39m\u001b[32m547\u001b[39m     df = \u001b[43mpd\u001b[49m\u001b[43m.\u001b[49m\u001b[43mread_csv\u001b[49m\u001b[43m(\u001b[49m\u001b[43mread_path\u001b[49m\u001b[43m,\u001b[49m\u001b[43m \u001b[49m\u001b[43mheader\u001b[49m\u001b[43m=\u001b[49m\u001b[32;43m0\u001b[39;49m\u001b[43m)\u001b[49m\n\u001b[32m    548\u001b[39m dat_pd = df\n\u001b[32m    549\u001b[39m data_pd = dat_pd.select_dtypes(include=np.number)\n",
      "\u001b[36mFile \u001b[39m\u001b[32m~/Documents/Github/SyNG-BTS/.conda/lib/python3.11/site-packages/pandas/io/parsers/readers.py:1026\u001b[39m, in \u001b[36mread_csv\u001b[39m\u001b[34m(filepath_or_buffer, sep, delimiter, header, names, index_col, usecols, dtype, engine, converters, true_values, false_values, skipinitialspace, skiprows, skipfooter, nrows, na_values, keep_default_na, na_filter, verbose, skip_blank_lines, parse_dates, infer_datetime_format, keep_date_col, date_parser, date_format, dayfirst, cache_dates, iterator, chunksize, compression, thousands, decimal, lineterminator, quotechar, quoting, doublequote, escapechar, comment, encoding, encoding_errors, dialect, on_bad_lines, delim_whitespace, low_memory, memory_map, float_precision, storage_options, dtype_backend)\u001b[39m\n\u001b[32m   1013\u001b[39m kwds_defaults = _refine_defaults_read(\n\u001b[32m   1014\u001b[39m     dialect,\n\u001b[32m   1015\u001b[39m     delimiter,\n\u001b[32m   (...)\u001b[39m\u001b[32m   1022\u001b[39m     dtype_backend=dtype_backend,\n\u001b[32m   1023\u001b[39m )\n\u001b[32m   1024\u001b[39m kwds.update(kwds_defaults)\n\u001b[32m-> \u001b[39m\u001b[32m1026\u001b[39m \u001b[38;5;28;01mreturn\u001b[39;00m \u001b[43m_read\u001b[49m\u001b[43m(\u001b[49m\u001b[43mfilepath_or_buffer\u001b[49m\u001b[43m,\u001b[49m\u001b[43m \u001b[49m\u001b[43mkwds\u001b[49m\u001b[43m)\u001b[49m\n",
      "\u001b[36mFile \u001b[39m\u001b[32m~/Documents/Github/SyNG-BTS/.conda/lib/python3.11/site-packages/pandas/io/parsers/readers.py:620\u001b[39m, in \u001b[36m_read\u001b[39m\u001b[34m(filepath_or_buffer, kwds)\u001b[39m\n\u001b[32m    617\u001b[39m _validate_names(kwds.get(\u001b[33m\"\u001b[39m\u001b[33mnames\u001b[39m\u001b[33m\"\u001b[39m, \u001b[38;5;28;01mNone\u001b[39;00m))\n\u001b[32m    619\u001b[39m \u001b[38;5;66;03m# Create the parser.\u001b[39;00m\n\u001b[32m--> \u001b[39m\u001b[32m620\u001b[39m parser = \u001b[43mTextFileReader\u001b[49m\u001b[43m(\u001b[49m\u001b[43mfilepath_or_buffer\u001b[49m\u001b[43m,\u001b[49m\u001b[43m \u001b[49m\u001b[43m*\u001b[49m\u001b[43m*\u001b[49m\u001b[43mkwds\u001b[49m\u001b[43m)\u001b[49m\n\u001b[32m    622\u001b[39m \u001b[38;5;28;01mif\u001b[39;00m chunksize \u001b[38;5;129;01mor\u001b[39;00m iterator:\n\u001b[32m    623\u001b[39m     \u001b[38;5;28;01mreturn\u001b[39;00m parser\n",
      "\u001b[36mFile \u001b[39m\u001b[32m~/Documents/Github/SyNG-BTS/.conda/lib/python3.11/site-packages/pandas/io/parsers/readers.py:1620\u001b[39m, in \u001b[36mTextFileReader.__init__\u001b[39m\u001b[34m(self, f, engine, **kwds)\u001b[39m\n\u001b[32m   1617\u001b[39m     \u001b[38;5;28mself\u001b[39m.options[\u001b[33m\"\u001b[39m\u001b[33mhas_index_names\u001b[39m\u001b[33m\"\u001b[39m] = kwds[\u001b[33m\"\u001b[39m\u001b[33mhas_index_names\u001b[39m\u001b[33m\"\u001b[39m]\n\u001b[32m   1619\u001b[39m \u001b[38;5;28mself\u001b[39m.handles: IOHandles | \u001b[38;5;28;01mNone\u001b[39;00m = \u001b[38;5;28;01mNone\u001b[39;00m\n\u001b[32m-> \u001b[39m\u001b[32m1620\u001b[39m \u001b[38;5;28mself\u001b[39m._engine = \u001b[38;5;28;43mself\u001b[39;49m\u001b[43m.\u001b[49m\u001b[43m_make_engine\u001b[49m\u001b[43m(\u001b[49m\u001b[43mf\u001b[49m\u001b[43m,\u001b[49m\u001b[43m \u001b[49m\u001b[38;5;28;43mself\u001b[39;49m\u001b[43m.\u001b[49m\u001b[43mengine\u001b[49m\u001b[43m)\u001b[49m\n",
      "\u001b[36mFile \u001b[39m\u001b[32m~/Documents/Github/SyNG-BTS/.conda/lib/python3.11/site-packages/pandas/io/parsers/readers.py:1880\u001b[39m, in \u001b[36mTextFileReader._make_engine\u001b[39m\u001b[34m(self, f, engine)\u001b[39m\n\u001b[32m   1878\u001b[39m     \u001b[38;5;28;01mif\u001b[39;00m \u001b[33m\"\u001b[39m\u001b[33mb\u001b[39m\u001b[33m\"\u001b[39m \u001b[38;5;129;01mnot\u001b[39;00m \u001b[38;5;129;01min\u001b[39;00m mode:\n\u001b[32m   1879\u001b[39m         mode += \u001b[33m\"\u001b[39m\u001b[33mb\u001b[39m\u001b[33m\"\u001b[39m\n\u001b[32m-> \u001b[39m\u001b[32m1880\u001b[39m \u001b[38;5;28mself\u001b[39m.handles = \u001b[43mget_handle\u001b[49m\u001b[43m(\u001b[49m\n\u001b[32m   1881\u001b[39m \u001b[43m    \u001b[49m\u001b[43mf\u001b[49m\u001b[43m,\u001b[49m\n\u001b[32m   1882\u001b[39m \u001b[43m    \u001b[49m\u001b[43mmode\u001b[49m\u001b[43m,\u001b[49m\n\u001b[32m   1883\u001b[39m \u001b[43m    \u001b[49m\u001b[43mencoding\u001b[49m\u001b[43m=\u001b[49m\u001b[38;5;28;43mself\u001b[39;49m\u001b[43m.\u001b[49m\u001b[43moptions\u001b[49m\u001b[43m.\u001b[49m\u001b[43mget\u001b[49m\u001b[43m(\u001b[49m\u001b[33;43m\"\u001b[39;49m\u001b[33;43mencoding\u001b[39;49m\u001b[33;43m\"\u001b[39;49m\u001b[43m,\u001b[49m\u001b[43m \u001b[49m\u001b[38;5;28;43;01mNone\u001b[39;49;00m\u001b[43m)\u001b[49m\u001b[43m,\u001b[49m\n\u001b[32m   1884\u001b[39m \u001b[43m    \u001b[49m\u001b[43mcompression\u001b[49m\u001b[43m=\u001b[49m\u001b[38;5;28;43mself\u001b[39;49m\u001b[43m.\u001b[49m\u001b[43moptions\u001b[49m\u001b[43m.\u001b[49m\u001b[43mget\u001b[49m\u001b[43m(\u001b[49m\u001b[33;43m\"\u001b[39;49m\u001b[33;43mcompression\u001b[39;49m\u001b[33;43m\"\u001b[39;49m\u001b[43m,\u001b[49m\u001b[43m \u001b[49m\u001b[38;5;28;43;01mNone\u001b[39;49;00m\u001b[43m)\u001b[49m\u001b[43m,\u001b[49m\n\u001b[32m   1885\u001b[39m \u001b[43m    \u001b[49m\u001b[43mmemory_map\u001b[49m\u001b[43m=\u001b[49m\u001b[38;5;28;43mself\u001b[39;49m\u001b[43m.\u001b[49m\u001b[43moptions\u001b[49m\u001b[43m.\u001b[49m\u001b[43mget\u001b[49m\u001b[43m(\u001b[49m\u001b[33;43m\"\u001b[39;49m\u001b[33;43mmemory_map\u001b[39;49m\u001b[33;43m\"\u001b[39;49m\u001b[43m,\u001b[49m\u001b[43m \u001b[49m\u001b[38;5;28;43;01mFalse\u001b[39;49;00m\u001b[43m)\u001b[49m\u001b[43m,\u001b[49m\n\u001b[32m   1886\u001b[39m \u001b[43m    \u001b[49m\u001b[43mis_text\u001b[49m\u001b[43m=\u001b[49m\u001b[43mis_text\u001b[49m\u001b[43m,\u001b[49m\n\u001b[32m   1887\u001b[39m \u001b[43m    \u001b[49m\u001b[43merrors\u001b[49m\u001b[43m=\u001b[49m\u001b[38;5;28;43mself\u001b[39;49m\u001b[43m.\u001b[49m\u001b[43moptions\u001b[49m\u001b[43m.\u001b[49m\u001b[43mget\u001b[49m\u001b[43m(\u001b[49m\u001b[33;43m\"\u001b[39;49m\u001b[33;43mencoding_errors\u001b[39;49m\u001b[33;43m\"\u001b[39;49m\u001b[43m,\u001b[49m\u001b[43m \u001b[49m\u001b[33;43m\"\u001b[39;49m\u001b[33;43mstrict\u001b[39;49m\u001b[33;43m\"\u001b[39;49m\u001b[43m)\u001b[49m\u001b[43m,\u001b[49m\n\u001b[32m   1888\u001b[39m \u001b[43m    \u001b[49m\u001b[43mstorage_options\u001b[49m\u001b[43m=\u001b[49m\u001b[38;5;28;43mself\u001b[39;49m\u001b[43m.\u001b[49m\u001b[43moptions\u001b[49m\u001b[43m.\u001b[49m\u001b[43mget\u001b[49m\u001b[43m(\u001b[49m\u001b[33;43m\"\u001b[39;49m\u001b[33;43mstorage_options\u001b[39;49m\u001b[33;43m\"\u001b[39;49m\u001b[43m,\u001b[49m\u001b[43m \u001b[49m\u001b[38;5;28;43;01mNone\u001b[39;49;00m\u001b[43m)\u001b[49m\u001b[43m,\u001b[49m\n\u001b[32m   1889\u001b[39m \u001b[43m\u001b[49m\u001b[43m)\u001b[49m\n\u001b[32m   1890\u001b[39m \u001b[38;5;28;01massert\u001b[39;00m \u001b[38;5;28mself\u001b[39m.handles \u001b[38;5;129;01mis\u001b[39;00m \u001b[38;5;129;01mnot\u001b[39;00m \u001b[38;5;28;01mNone\u001b[39;00m\n\u001b[32m   1891\u001b[39m f = \u001b[38;5;28mself\u001b[39m.handles.handle\n",
      "\u001b[36mFile \u001b[39m\u001b[32m~/Documents/Github/SyNG-BTS/.conda/lib/python3.11/site-packages/pandas/io/common.py:873\u001b[39m, in \u001b[36mget_handle\u001b[39m\u001b[34m(path_or_buf, mode, encoding, compression, memory_map, is_text, errors, storage_options)\u001b[39m\n\u001b[32m    868\u001b[39m \u001b[38;5;28;01melif\u001b[39;00m \u001b[38;5;28misinstance\u001b[39m(handle, \u001b[38;5;28mstr\u001b[39m):\n\u001b[32m    869\u001b[39m     \u001b[38;5;66;03m# Check whether the filename is to be opened in binary mode.\u001b[39;00m\n\u001b[32m    870\u001b[39m     \u001b[38;5;66;03m# Binary mode does not support 'encoding' and 'newline'.\u001b[39;00m\n\u001b[32m    871\u001b[39m     \u001b[38;5;28;01mif\u001b[39;00m ioargs.encoding \u001b[38;5;129;01mand\u001b[39;00m \u001b[33m\"\u001b[39m\u001b[33mb\u001b[39m\u001b[33m\"\u001b[39m \u001b[38;5;129;01mnot\u001b[39;00m \u001b[38;5;129;01min\u001b[39;00m ioargs.mode:\n\u001b[32m    872\u001b[39m         \u001b[38;5;66;03m# Encoding\u001b[39;00m\n\u001b[32m--> \u001b[39m\u001b[32m873\u001b[39m         handle = \u001b[38;5;28;43mopen\u001b[39;49m\u001b[43m(\u001b[49m\n\u001b[32m    874\u001b[39m \u001b[43m            \u001b[49m\u001b[43mhandle\u001b[49m\u001b[43m,\u001b[49m\n\u001b[32m    875\u001b[39m \u001b[43m            \u001b[49m\u001b[43mioargs\u001b[49m\u001b[43m.\u001b[49m\u001b[43mmode\u001b[49m\u001b[43m,\u001b[49m\n\u001b[32m    876\u001b[39m \u001b[43m            \u001b[49m\u001b[43mencoding\u001b[49m\u001b[43m=\u001b[49m\u001b[43mioargs\u001b[49m\u001b[43m.\u001b[49m\u001b[43mencoding\u001b[49m\u001b[43m,\u001b[49m\n\u001b[32m    877\u001b[39m \u001b[43m            \u001b[49m\u001b[43merrors\u001b[49m\u001b[43m=\u001b[49m\u001b[43merrors\u001b[49m\u001b[43m,\u001b[49m\n\u001b[32m    878\u001b[39m \u001b[43m            \u001b[49m\u001b[43mnewline\u001b[49m\u001b[43m=\u001b[49m\u001b[33;43m\"\u001b[39;49m\u001b[33;43m\"\u001b[39;49m\u001b[43m,\u001b[49m\n\u001b[32m    879\u001b[39m \u001b[43m        \u001b[49m\u001b[43m)\u001b[49m\n\u001b[32m    880\u001b[39m     \u001b[38;5;28;01melse\u001b[39;00m:\n\u001b[32m    881\u001b[39m         \u001b[38;5;66;03m# Binary mode\u001b[39;00m\n\u001b[32m    882\u001b[39m         handle = \u001b[38;5;28mopen\u001b[39m(handle, ioargs.mode)\n",
      "\u001b[31mFileNotFoundError\u001b[39m: [Errno 2] No such file or directory: '../Case/KICH/raw/batch_2/KICHSubtype_lymph_nodes_examined_train.csv'"
     ]
    }
   ],
   "source": [
    "#%% running application on case study BRCASubtype\n",
    "# This function trains VAE or CVAE, or GAN, WGAN, WGANGP, MAF, GLOW, RealNVP \n",
    "#      given data, model, batch_size, learning_rate, epoch, off_aug and pre_model\n",
    "#      and generate new samples with size specified by the users.\n",
    "# path:              path for reading real data and saving new data\n",
    "# dataname :         pure data name without .csv. Eg: SKCMPositive_3\n",
    "# apply_log:         logical whether apply log transformation before training\n",
    "# model:             name of the model to be trained\n",
    "# batch_frac:        batch fraction\n",
    "# learning_rate:     learning rate \n",
    "# epoch:             choose from None (early_stop), or any interger, if choose None, early_stop_num will take effect\n",
    "# early_stop_num:    if loss does not improve for early_stop_num epochs, the training will stop. Default value is 30. Only take effect when epoch == \"early_stop\"\n",
    "# off_aug:           choose from AE_head, Gaussian_head, None. if choose AE_head, AE_head_num will take effect. If choose Gaussian_head, Gaussian_head_num will take effect. If choose None, no offline augmentation\n",
    "# AE_head_num:       how many folds of AEhead augmentation needed. Default value is 2, Only take effect when off_aug == \"AE_head\"\n",
    "# Gaussian_head_num: how many folds of Gaussianhead augmentation needed. Default value is 9, Only take effect when off_aug == \"Gaussian_head\"\n",
    "# pre_model:         transfer learning input model. If pre_model == None, no transfer learning\n",
    "# save_model:        if the trained model should be saved, specify the path and name of the saved model\n",
    "        \n",
    "ApplyExperiment(path = \"../Case/KICH/raw/batch_2/\",\n",
    "                dataname = \"KICHSubtype_lymph_nodes_examined_train\", \n",
    "                apply_log = True, \n",
    "                new_size = [1000],\n",
    "                model = \"CVAE1-10\" ,\n",
    "                batch_frac = 0.1, \n",
    "                learning_rate = 0.0005,\n",
    "                epoch = 3000,\n",
    "                early_stop_num = 20, \n",
    "                off_aug = \"AE_head\",\n",
    "                AE_head_num = 2,\n",
    "                Gaussian_head_num = 9, \n",
    "                pre_model = None,\n",
    "                save_model = None)"
   ]
  },
  {
   "cell_type": "code",
   "execution_count": 5,
   "metadata": {},
   "outputs": [
    {
     "name": "stdout",
     "output_type": "stream",
     "text": [
      "1. Read data, path is ../Transfer/PRAD.csv\n",
      "2. Determine the model is maf with kl-weight = 1\n",
      "3. Determine the training parameters are epoch = 10 off_aug = No learing rate = 0.0005 batch_frac = 0.1\n",
      "3. Training starts ......\n",
      "\n",
      "Epoch: 0\n"
     ]
    },
    {
     "name": "stderr",
     "output_type": "stream",
     "text": [
      "Train, Log likelihood in nats: 6631.751554: 100%|██████████| 551/551 [00:00<00:00, 1812.52it/s]\n"
     ]
    },
    {
     "name": "stdout",
     "output_type": "stream",
     "text": [
      "Best validation at epoch 0: Average Log Likelihood in nats: 132.3943\n",
      "\n",
      "Epoch: 1\n"
     ]
    },
    {
     "name": "stderr",
     "output_type": "stream",
     "text": [
      "Train, Log likelihood in nats: 8143.614302: 100%|██████████| 551/551 [00:00<00:00, 2262.91it/s]\n"
     ]
    },
    {
     "name": "stdout",
     "output_type": "stream",
     "text": [
      "Best validation at epoch 1: Average Log Likelihood in nats: 162.5767\n",
      "\n",
      "Epoch: 2\n"
     ]
    },
    {
     "name": "stderr",
     "output_type": "stream",
     "text": [
      "Train, Log likelihood in nats: 8990.454901: 100%|██████████| 551/551 [00:00<00:00, 2092.92it/s]\n"
     ]
    },
    {
     "name": "stdout",
     "output_type": "stream",
     "text": [
      "Best validation at epoch 2: Average Log Likelihood in nats: 179.4828\n",
      "\n",
      "Epoch: 3\n"
     ]
    },
    {
     "name": "stderr",
     "output_type": "stream",
     "text": [
      "Train, Log likelihood in nats: 9560.014870: 100%|██████████| 551/551 [00:00<00:00, 2154.41it/s]\n"
     ]
    },
    {
     "name": "stdout",
     "output_type": "stream",
     "text": [
      "Best validation at epoch 3: Average Log Likelihood in nats: 190.8533\n",
      "\n",
      "Epoch: 4\n"
     ]
    },
    {
     "name": "stderr",
     "output_type": "stream",
     "text": [
      "Train, Log likelihood in nats: 9944.949973: 100%|██████████| 551/551 [00:00<00:00, 2160.83it/s]\n"
     ]
    },
    {
     "name": "stdout",
     "output_type": "stream",
     "text": [
      "Best validation at epoch 4: Average Log Likelihood in nats: 198.5380\n",
      "\n",
      "Epoch: 5\n"
     ]
    },
    {
     "name": "stderr",
     "output_type": "stream",
     "text": [
      "Train, Log likelihood in nats: 10281.173606: 100%|██████████| 551/551 [00:00<00:00, 2044.85it/s]\n"
     ]
    },
    {
     "name": "stdout",
     "output_type": "stream",
     "text": [
      "Best validation at epoch 5: Average Log Likelihood in nats: 205.2503\n",
      "\n",
      "Epoch: 6\n"
     ]
    },
    {
     "name": "stderr",
     "output_type": "stream",
     "text": [
      "Train, Log likelihood in nats: 10648.479226: 100%|██████████| 551/551 [00:00<00:00, 2088.34it/s]\n"
     ]
    },
    {
     "name": "stdout",
     "output_type": "stream",
     "text": [
      "Best validation at epoch 6: Average Log Likelihood in nats: 212.5831\n",
      "\n",
      "Epoch: 7\n"
     ]
    },
    {
     "name": "stderr",
     "output_type": "stream",
     "text": [
      "Train, Log likelihood in nats: 10893.803755: 100%|██████████| 551/551 [00:00<00:00, 2071.80it/s]\n"
     ]
    },
    {
     "name": "stdout",
     "output_type": "stream",
     "text": [
      "Best validation at epoch 7: Average Log Likelihood in nats: 217.4807\n",
      "\n",
      "Epoch: 8\n"
     ]
    },
    {
     "name": "stderr",
     "output_type": "stream",
     "text": [
      "Train, Log likelihood in nats: 11196.179732: 100%|██████████| 551/551 [00:00<00:00, 1982.93it/s]\n"
     ]
    },
    {
     "name": "stdout",
     "output_type": "stream",
     "text": [
      "Best validation at epoch 8: Average Log Likelihood in nats: 223.5172\n",
      "\n",
      "Epoch: 9\n"
     ]
    },
    {
     "name": "stderr",
     "output_type": "stream",
     "text": [
      "Train, Log likelihood in nats: 11451.659979: 100%|██████████| 551/551 [00:00<00:00, 2204.87it/s]\n"
     ]
    },
    {
     "name": "stdout",
     "output_type": "stream",
     "text": [
      "Best validation at epoch 9: Average Log Likelihood in nats: 228.6175\n",
      "1. Read data, path is ../Transfer/BRCA.csv\n",
      "2. Determine the model is maf with kl-weight = 1\n",
      "3. Determine the training parameters are epoch = 10 off_aug = No learing rate = 0.0005 batch_frac = 0.1\n",
      "3. Training starts ......\n",
      "\n",
      "Epoch: 0\n"
     ]
    },
    {
     "name": "stderr",
     "output_type": "stream",
     "text": [
      "Train, Log likelihood in nats: 3805.527588: 100%|██████████| 1207/1207 [00:00<00:00, 3119.29it/s]\n"
     ]
    },
    {
     "name": "stdout",
     "output_type": "stream",
     "text": [
      "Best validation at epoch 0: Average Log Likelihood in nats: 31.5288\n",
      "\n",
      "Epoch: 1\n"
     ]
    },
    {
     "name": "stderr",
     "output_type": "stream",
     "text": [
      "Train, Log likelihood in nats: 4299.873193: 100%|██████████| 1207/1207 [00:00<00:00, 3648.94it/s]\n"
     ]
    },
    {
     "name": "stdout",
     "output_type": "stream",
     "text": [
      "Best validation at epoch 1: Average Log Likelihood in nats: 35.6245\n",
      "\n",
      "Epoch: 2\n"
     ]
    },
    {
     "name": "stderr",
     "output_type": "stream",
     "text": [
      "Train, Log likelihood in nats: 4582.434375: 100%|██████████| 1207/1207 [00:00<00:00, 3617.27it/s]\n"
     ]
    },
    {
     "name": "stdout",
     "output_type": "stream",
     "text": [
      "Best validation at epoch 2: Average Log Likelihood in nats: 37.9655\n",
      "\n",
      "Epoch: 3\n"
     ]
    },
    {
     "name": "stderr",
     "output_type": "stream",
     "text": [
      "Train, Log likelihood in nats: 4800.993750: 100%|██████████| 1207/1207 [00:00<00:00, 4114.81it/s]\n"
     ]
    },
    {
     "name": "stdout",
     "output_type": "stream",
     "text": [
      "Best validation at epoch 3: Average Log Likelihood in nats: 39.7763\n",
      "\n",
      "Epoch: 4\n"
     ]
    },
    {
     "name": "stderr",
     "output_type": "stream",
     "text": [
      "Train, Log likelihood in nats: 4956.010986: 100%|██████████| 1207/1207 [00:00<00:00, 3819.74it/s]\n"
     ]
    },
    {
     "name": "stdout",
     "output_type": "stream",
     "text": [
      "Best validation at epoch 4: Average Log Likelihood in nats: 41.0606\n",
      "\n",
      "Epoch: 5\n"
     ]
    },
    {
     "name": "stderr",
     "output_type": "stream",
     "text": [
      "Train, Log likelihood in nats: 5060.614648: 100%|██████████| 1207/1207 [00:00<00:00, 3811.19it/s]\n"
     ]
    },
    {
     "name": "stdout",
     "output_type": "stream",
     "text": [
      "Best validation at epoch 5: Average Log Likelihood in nats: 41.9272\n",
      "\n",
      "Epoch: 6\n"
     ]
    },
    {
     "name": "stderr",
     "output_type": "stream",
     "text": [
      "Train, Log likelihood in nats: 5172.241357: 100%|██████████| 1207/1207 [00:00<00:00, 3964.35it/s]\n"
     ]
    },
    {
     "name": "stdout",
     "output_type": "stream",
     "text": [
      "Best validation at epoch 6: Average Log Likelihood in nats: 42.8520\n",
      "\n",
      "Epoch: 7\n"
     ]
    },
    {
     "name": "stderr",
     "output_type": "stream",
     "text": [
      "Train, Log likelihood in nats: 5274.846045: 100%|██████████| 1207/1207 [00:00<00:00, 3788.06it/s]\n"
     ]
    },
    {
     "name": "stdout",
     "output_type": "stream",
     "text": [
      "Best validation at epoch 7: Average Log Likelihood in nats: 43.7021\n",
      "\n",
      "Epoch: 8\n"
     ]
    },
    {
     "name": "stderr",
     "output_type": "stream",
     "text": [
      "Train, Log likelihood in nats: 5403.950049: 100%|██████████| 1207/1207 [00:00<00:00, 3594.49it/s]\n"
     ]
    },
    {
     "name": "stdout",
     "output_type": "stream",
     "text": [
      "Best validation at epoch 8: Average Log Likelihood in nats: 44.7717\n",
      "\n",
      "Epoch: 9\n"
     ]
    },
    {
     "name": "stderr",
     "output_type": "stream",
     "text": [
      "Train, Log likelihood in nats: 5529.024707: 100%|██████████| 1207/1207 [00:00<00:00, 4086.80it/s]\n"
     ]
    },
    {
     "name": "stdout",
     "output_type": "stream",
     "text": [
      "Best validation at epoch 9: Average Log Likelihood in nats: 45.8080\n"
     ]
    }
   ],
   "source": [
    "#%% Running transfer learning\n",
    "# This function run transfer learning using VAE or CVAE, or GAN, WGAN, WGANGP, MAF, GLOW, RealNVP \n",
    "#      given fromdata, todata, model, batch_size, learning_rate, epoch, off_aug and pre_model\n",
    "#      and generate new samples with size specified by the users.\n",
    "#      The fine tuning model training can be pilot experiments or apply experiment\n",
    "# Make sure data files for pre_model training and fine tuning model training are in Transfer/\n",
    "# pilot_size:        if None, the fine tuning model will be apply experiment and new_size will take effect\n",
    "#                    otherwise, the fine tuning model will be trained using pilot experiments\n",
    "# fromname:          the dataname for pre_model training \n",
    "# toname:            the dataname for fine tuning model training\n",
    "# fromsize:          the sample size of the fromdata\n",
    "# new_size:          if apply experiment, this will be the sample size of generated samples\n",
    "# apply_log:         logical whether apply log transformation before training\n",
    "# model:             name of the model to be trained\n",
    "# batch_frac:        batch fraction\n",
    "# learning_rate:     learning rate \n",
    "# epoch:             choose from None (early_stop), or any interger, if choose None, early_stop_num will take effect\n",
    "# off_aug:           choose from AE_head, Gaussian_head, None. if choose AE_head, AE_head_num will take effect. If choose Gaussian_head, Gaussian_head_num will take effect. If choose None, no offline augmentation\n",
    "TransferExperiment(pilot_size = None, fromname = \"PRAD\", toname = \"BRCA\", fromsize = 551, \n",
    "         new_size = 500, apply_log = True, model = \"maf\", epoch = 10,\n",
    "         batch_frac = 0.1, learning_rate = 0.0005, off_aug = None)"
   ]
  }
 ],
 "metadata": {
  "kernelspec": {
   "display_name": "Python 3",
   "language": "python",
   "name": "python3"
  },
  "language_info": {
   "codemirror_mode": {
    "name": "ipython",
    "version": 3
   },
   "file_extension": ".py",
   "mimetype": "text/x-python",
   "name": "python",
   "nbconvert_exporter": "python",
   "pygments_lexer": "ipython3",
   "version": "3.11.13"
  }
 },
 "nbformat": 4,
 "nbformat_minor": 4
}
